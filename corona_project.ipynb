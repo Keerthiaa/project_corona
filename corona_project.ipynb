{
 "cells": [
  {
   "cell_type": "code",
   "execution_count": 66,
   "metadata": {
    "scrolled": true
   },
   "outputs": [],
   "source": [
    "import datetime as dt\n",
    "\n",
    "import warnings\n",
    "warnings.filterwarnings('ignore')\n",
    "import pandas as pd\n",
    "import numpy as np\n",
    "import matplotlib.pyplot as plt\n",
    "%matplotlib inline\n",
    "import seaborn as sns\n",
    "\n",
    "from sklearn.ensemble import RandomForestRegressor\n",
    "from sklearn.preprocessing import StandardScaler, LabelEncoder\n",
    "from sklearn.pipeline import Pipeline\n",
    "from sklearn.model_selection import train_test_split"
   ]
  },
  {
   "cell_type": "code",
   "execution_count": 67,
   "metadata": {
    "scrolled": true
   },
   "outputs": [],
   "source": [
    "df=pd.read_csv('COVID.CSV')"
   ]
  },
  {
   "cell_type": "code",
   "execution_count": 68,
   "metadata": {
    "scrolled": true
   },
   "outputs": [
    {
     "data": {
      "text/html": [
       "<div>\n",
       "<style scoped>\n",
       "    .dataframe tbody tr th:only-of-type {\n",
       "        vertical-align: middle;\n",
       "    }\n",
       "\n",
       "    .dataframe tbody tr th {\n",
       "        vertical-align: top;\n",
       "    }\n",
       "\n",
       "    .dataframe thead th {\n",
       "        text-align: right;\n",
       "    }\n",
       "</style>\n",
       "<table border=\"1\" class=\"dataframe\">\n",
       "  <thead>\n",
       "    <tr style=\"text-align: right;\">\n",
       "      <th></th>\n",
       "      <th>Date</th>\n",
       "      <th>Country</th>\n",
       "      <th>Confirmed</th>\n",
       "      <th>Recovered</th>\n",
       "      <th>Deaths</th>\n",
       "    </tr>\n",
       "  </thead>\n",
       "  <tbody>\n",
       "    <tr>\n",
       "      <th>0</th>\n",
       "      <td>2020-01-22</td>\n",
       "      <td>Afghanistan</td>\n",
       "      <td>0</td>\n",
       "      <td>0</td>\n",
       "      <td>0</td>\n",
       "    </tr>\n",
       "    <tr>\n",
       "      <th>1</th>\n",
       "      <td>2020-01-22</td>\n",
       "      <td>Albania</td>\n",
       "      <td>0</td>\n",
       "      <td>0</td>\n",
       "      <td>0</td>\n",
       "    </tr>\n",
       "    <tr>\n",
       "      <th>2</th>\n",
       "      <td>2020-01-22</td>\n",
       "      <td>Algeria</td>\n",
       "      <td>0</td>\n",
       "      <td>0</td>\n",
       "      <td>0</td>\n",
       "    </tr>\n",
       "    <tr>\n",
       "      <th>3</th>\n",
       "      <td>2020-01-22</td>\n",
       "      <td>Andorra</td>\n",
       "      <td>0</td>\n",
       "      <td>0</td>\n",
       "      <td>0</td>\n",
       "    </tr>\n",
       "    <tr>\n",
       "      <th>4</th>\n",
       "      <td>2020-01-22</td>\n",
       "      <td>Angola</td>\n",
       "      <td>0</td>\n",
       "      <td>0</td>\n",
       "      <td>0</td>\n",
       "    </tr>\n",
       "  </tbody>\n",
       "</table>\n",
       "</div>"
      ],
      "text/plain": [
       "         Date      Country  Confirmed  Recovered  Deaths\n",
       "0  2020-01-22  Afghanistan          0          0       0\n",
       "1  2020-01-22      Albania          0          0       0\n",
       "2  2020-01-22      Algeria          0          0       0\n",
       "3  2020-01-22      Andorra          0          0       0\n",
       "4  2020-01-22       Angola          0          0       0"
      ]
     },
     "execution_count": 68,
     "metadata": {},
     "output_type": "execute_result"
    }
   ],
   "source": [
    "df.head()"
   ]
  },
  {
   "cell_type": "code",
   "execution_count": 69,
   "metadata": {
    "scrolled": true
   },
   "outputs": [
    {
     "data": {
      "text/plain": [
       "(23688, 5)"
      ]
     },
     "execution_count": 69,
     "metadata": {},
     "output_type": "execute_result"
    }
   ],
   "source": [
    "df.shape"
   ]
  },
  {
   "cell_type": "code",
   "execution_count": 70,
   "metadata": {
    "scrolled": true
   },
   "outputs": [
    {
     "data": {
      "text/plain": [
       "Index(['Date', 'Country', 'Confirmed', 'Recovered', 'Deaths'], dtype='object')"
      ]
     },
     "execution_count": 70,
     "metadata": {},
     "output_type": "execute_result"
    }
   ],
   "source": [
    "df.columns"
   ]
  },
  {
   "cell_type": "code",
   "execution_count": 71,
   "metadata": {
    "scrolled": true
   },
   "outputs": [
    {
     "data": {
      "text/plain": [
       "Date         0\n",
       "Country      0\n",
       "Confirmed    0\n",
       "Recovered    0\n",
       "Deaths       0\n",
       "dtype: int64"
      ]
     },
     "execution_count": 71,
     "metadata": {},
     "output_type": "execute_result"
    }
   ],
   "source": [
    "df.isnull().sum()"
   ]
  },
  {
   "cell_type": "code",
   "execution_count": 72,
   "metadata": {
    "scrolled": true
   },
   "outputs": [
    {
     "name": "stdout",
     "output_type": "stream",
     "text": [
      "Cameroon                    126\n",
      "Cyprus                      126\n",
      "South Africa                126\n",
      "Bangladesh                  126\n",
      "Jamaica                     126\n",
      "                           ... \n",
      "Colombia                    126\n",
      "Central African Republic    126\n",
      "Lesotho                     126\n",
      "Tajikistan                  126\n",
      "Comoros                     126\n",
      "Name: Country, Length: 188, dtype: int64\n"
     ]
    }
   ],
   "source": [
    "print(df['Country'].value_counts())"
   ]
  },
  {
   "cell_type": "code",
   "execution_count": 73,
   "metadata": {
    "scrolled": true
   },
   "outputs": [],
   "source": [
    "#all 188 countries has 126 days data"
   ]
  },
  {
   "cell_type": "code",
   "execution_count": 74,
   "metadata": {
    "scrolled": true
   },
   "outputs": [
    {
     "data": {
      "text/plain": [
       "Date          126\n",
       "Country       188\n",
       "Confirmed    5308\n",
       "Recovered    3303\n",
       "Deaths       1768\n",
       "dtype: int64"
      ]
     },
     "execution_count": 74,
     "metadata": {},
     "output_type": "execute_result"
    }
   ],
   "source": [
    "df.apply(lambda x : len(x.unique()))"
   ]
  },
  {
   "cell_type": "code",
   "execution_count": 75,
   "metadata": {
    "scrolled": true
   },
   "outputs": [
    {
     "name": "stdout",
     "output_type": "stream",
     "text": [
      "<class 'pandas.core.frame.DataFrame'>\n",
      "RangeIndex: 23688 entries, 0 to 23687\n",
      "Data columns (total 5 columns):\n",
      " #   Column     Non-Null Count  Dtype \n",
      "---  ------     --------------  ----- \n",
      " 0   Date       23688 non-null  object\n",
      " 1   Country    23688 non-null  object\n",
      " 2   Confirmed  23688 non-null  int64 \n",
      " 3   Recovered  23688 non-null  int64 \n",
      " 4   Deaths     23688 non-null  int64 \n",
      "dtypes: int64(3), object(2)\n",
      "memory usage: 925.4+ KB\n"
     ]
    }
   ],
   "source": [
    "df.info()"
   ]
  },
  {
   "cell_type": "code",
   "execution_count": 76,
   "metadata": {
    "scrolled": true
   },
   "outputs": [
    {
     "data": {
      "text/plain": [
       "array(['Afghanistan', 'Albania', 'Algeria', 'Andorra', 'Angola',\n",
       "       'Antigua and Barbuda', 'Argentina', 'Armenia', 'Australia',\n",
       "       'Austria', 'Azerbaijan', 'Bahamas', 'Bahrain', 'Bangladesh',\n",
       "       'Barbados', 'Belarus', 'Belgium', 'Belize', 'Benin', 'Bhutan',\n",
       "       'Bolivia', 'Bosnia and Herzegovina', 'Botswana', 'Brazil',\n",
       "       'Brunei', 'Bulgaria', 'Burkina Faso', 'Burma', 'Burundi',\n",
       "       'Cabo Verde', 'Cambodia', 'Cameroon', 'Canada',\n",
       "       'Central African Republic', 'Chad', 'Chile', 'China', 'Colombia',\n",
       "       'Comoros', 'Congo (Brazzaville)', 'Congo (Kinshasa)', 'Costa Rica',\n",
       "       \"Cote d'Ivoire\", 'Croatia', 'Cuba', 'Cyprus', 'Czechia', 'Denmark',\n",
       "       'Diamond Princess', 'Djibouti', 'Dominica', 'Dominican Republic',\n",
       "       'Ecuador', 'Egypt', 'El Salvador', 'Equatorial Guinea', 'Eritrea',\n",
       "       'Estonia', 'Eswatini', 'Ethiopia', 'Fiji', 'Finland', 'France',\n",
       "       'Gabon', 'Gambia', 'Georgia', 'Germany', 'Ghana', 'Greece',\n",
       "       'Grenada', 'Guatemala', 'Guinea', 'Guinea-Bissau', 'Guyana',\n",
       "       'Haiti', 'Holy See', 'Honduras', 'Hungary', 'Iceland', 'India',\n",
       "       'Indonesia', 'Iran', 'Iraq', 'Ireland', 'Israel', 'Italy',\n",
       "       'Jamaica', 'Japan', 'Jordan', 'Kazakhstan', 'Kenya',\n",
       "       'Korea, South', 'Kosovo', 'Kuwait', 'Kyrgyzstan', 'Laos', 'Latvia',\n",
       "       'Lebanon', 'Lesotho', 'Liberia', 'Libya', 'Liechtenstein',\n",
       "       'Lithuania', 'Luxembourg', 'MS Zaandam', 'Madagascar', 'Malawi',\n",
       "       'Malaysia', 'Maldives', 'Mali', 'Malta', 'Mauritania', 'Mauritius',\n",
       "       'Mexico', 'Moldova', 'Monaco', 'Mongolia', 'Montenegro', 'Morocco',\n",
       "       'Mozambique', 'Namibia', 'Nepal', 'Netherlands', 'New Zealand',\n",
       "       'Nicaragua', 'Niger', 'Nigeria', 'North Macedonia', 'Norway',\n",
       "       'Oman', 'Pakistan', 'Panama', 'Papua New Guinea', 'Paraguay',\n",
       "       'Peru', 'Philippines', 'Poland', 'Portugal', 'Qatar', 'Romania',\n",
       "       'Russia', 'Rwanda', 'Saint Kitts and Nevis', 'Saint Lucia',\n",
       "       'Saint Vincent and the Grenadines', 'San Marino',\n",
       "       'Sao Tome and Principe', 'Saudi Arabia', 'Senegal', 'Serbia',\n",
       "       'Seychelles', 'Sierra Leone', 'Singapore', 'Slovakia', 'Slovenia',\n",
       "       'Somalia', 'South Africa', 'South Sudan', 'Spain', 'Sri Lanka',\n",
       "       'Sudan', 'Suriname', 'Sweden', 'Switzerland', 'Syria', 'Taiwan*',\n",
       "       'Tajikistan', 'Tanzania', 'Thailand', 'Timor-Leste', 'Togo',\n",
       "       'Trinidad and Tobago', 'Tunisia', 'Turkey', 'US', 'Uganda',\n",
       "       'Ukraine', 'United Arab Emirates', 'United Kingdom', 'Uruguay',\n",
       "       'Uzbekistan', 'Venezuela', 'Vietnam', 'West Bank and Gaza',\n",
       "       'Western Sahara', 'Yemen', 'Zambia', 'Zimbabwe'], dtype=object)"
      ]
     },
     "execution_count": 76,
     "metadata": {},
     "output_type": "execute_result"
    }
   ],
   "source": [
    "df.loc[:,'Country'].unique()"
   ]
  },
  {
   "cell_type": "code",
   "execution_count": 77,
   "metadata": {
    "scrolled": true
   },
   "outputs": [],
   "source": [
    "corr=df.corr()"
   ]
  },
  {
   "cell_type": "code",
   "execution_count": 78,
   "metadata": {
    "scrolled": true
   },
   "outputs": [
    {
     "data": {
      "text/plain": [
       "<matplotlib.axes._subplots.AxesSubplot at 0x2883836cd30>"
      ]
     },
     "execution_count": 78,
     "metadata": {},
     "output_type": "execute_result"
    },
    {
     "data": {
      "image/png": "[encoded data removed]",
      "text/plain": [
       "<Figure size 720x360 with 2 Axes>"
      ]
     },
     "metadata": {
      "needs_background": "light"
     },
     "output_type": "display_data"
    }
   ],
   "source": [
    "df.corr()\n",
    "\n",
    "import seaborn as sns\n",
    "import matplotlib.pyplot as plt\n",
    "plt.figure(figsize=(10,5))\n",
    "sns.heatmap(df.corr(),annot=True,linewidth=0.5,linecolor=\"black\",fmt='2f')"
   ]
  },
  {
   "cell_type": "code",
   "execution_count": 79,
   "metadata": {
    "scrolled": true
   },
   "outputs": [],
   "source": [
    "#we can observe that 92% correlation between death and confirmed cases while 77.8% correlation between no of recovered cases and deaths "
   ]
  },
  {
   "cell_type": "code",
   "execution_count": 80,
   "metadata": {
    "scrolled": true
   },
   "outputs": [
    {
     "data": {
      "image/png": "[encoded data removed]",
      "text/plain": [
       "<Figure size 1080x432 with 1 Axes>"
      ]
     },
     "metadata": {
      "needs_background": "light"
     },
     "output_type": "display_data"
    },
    {
     "name": "stdout",
     "output_type": "stream",
     "text": [
      "Country\n",
      "US             8428678\n",
      "China          6776464\n",
      "Germany        6102898\n",
      "Spain          5770271\n",
      "Italy          4354815\n",
      "                ...   \n",
      "Holy See            98\n",
      "Yemen               92\n",
      "South Sudan         73\n",
      "MS Zaandam           0\n",
      "Lesotho              0\n",
      "Name: Recovered, Length: 188, dtype: int64\n"
     ]
    }
   ],
   "source": [
    "plt.subplots(figsize = (15, 6))\n",
    "recovered_cases = df.groupby('Country').sum()\n",
    "pt = recovered_cases['Recovered'].sort_values(ascending = False)\n",
    "\n",
    "ax = pt.plot.bar()\n",
    "\n",
    "ax.set_xlabel('Country')\n",
    "ax.set_ylabel('Total Number of Recovered cases')\n",
    "ax.set_title('countrywise total Recovered cases')\n",
    "plt.show()\n",
    "print(pt)"
   ]
  },
  {
   "cell_type": "code",
   "execution_count": 81,
   "metadata": {
    "scrolled": true
   },
   "outputs": [],
   "source": [
    "#we cannot conclude anything from above fgure,but with statistical report we can understand number of recovered cases is highest in USA then China follwed by germany,sain and italy respectively "
   ]
  },
  {
   "cell_type": "code",
   "execution_count": 82,
   "metadata": {
    "scrolled": true
   },
   "outputs": [
    {
     "data": {
      "image/png": "[encoded data removed]",
      "text/plain": [
       "<Figure size 720x360 with 1 Axes>"
      ]
     },
     "metadata": {},
     "output_type": "display_data"
    }
   ],
   "source": [
    "US=df[df.Country==\"US\"]\n",
    "\n",
    "sns.set(rc={'figure.figsize':(10,5)})\n",
    "sns.lineplot(x=\"Date\",y=\"Recovered\",data=US,color='g')\n",
    "\n",
    "plt.show()"
   ]
  },
  {
   "cell_type": "code",
   "execution_count": 83,
   "metadata": {
    "scrolled": true
   },
   "outputs": [],
   "source": [
    "#death and confirmed cases have steap increase as dates are moving forward but whileobserving recovered caases we can see their\n",
    "#is fluctuations which shows poor health care conditions "
   ]
  },
  {
   "cell_type": "code",
   "execution_count": 84,
   "metadata": {
    "scrolled": true
   },
   "outputs": [
    {
     "name": "stdout",
     "output_type": "stream",
     "text": [
      "Country\n",
      "US                  57098767\n",
      "Italy               11896347\n",
      "Spain               11890691\n",
      "United Kingdom       9150537\n",
      "Germany              9046257\n",
      "                      ...   \n",
      "Bhutan                   608\n",
      "MS Zaandam               512\n",
      "Papua New Guinea         359\n",
      "Western Sahara           307\n",
      "Lesotho                   19\n",
      "Name: Confirmed, Length: 188, dtype: int64\n"
     ]
    }
   ],
   "source": [
    "Confirmed_cases = df.groupby('Country').sum()\n",
    "pt =Confirmed_cases['Confirmed'].sort_values(ascending = False)\n",
    "\n",
    "print(pt)"
   ]
  },
  {
   "cell_type": "code",
   "execution_count": 85,
   "metadata": {
    "scrolled": true
   },
   "outputs": [
    {
     "data": {
      "image/png": "[encoded data removed]",
      "text/plain": [
       "<Figure size 720x360 with 1 Axes>"
      ]
     },
     "metadata": {},
     "output_type": "display_data"
    }
   ],
   "source": [
    "US=df[df.Country==\"US\"]\n",
    "\n",
    "sns.set(rc={'figure.figsize':(10,5)})\n",
    "sns.lineplot(x=\"Date\",y=\"Confirmed\",data=US,color='g')\n",
    "\n",
    "plt.show()"
   ]
  },
  {
   "cell_type": "code",
   "execution_count": 86,
   "metadata": {
    "scrolled": true
   },
   "outputs": [
    {
     "name": "stdout",
     "output_type": "stream",
     "text": [
      "Country\n",
      "US                                  3221969\n",
      "Italy                               1568276\n",
      "United Kingdom                      1329006\n",
      "Spain                               1302010\n",
      "France                              1209634\n",
      "                                     ...   \n",
      "Saint Vincent and the Grenadines          0\n",
      "Fiji                                      0\n",
      "Mongolia                                  0\n",
      "Eritrea                                   0\n",
      "Seychelles                                0\n",
      "Name: Deaths, Length: 188, dtype: int64\n"
     ]
    }
   ],
   "source": [
    "Death_cases = df.groupby('Country').sum()\n",
    "pt =Death_cases['Deaths'].sort_values(ascending = False)\n",
    "\n",
    "print(pt)"
   ]
  },
  {
   "cell_type": "code",
   "execution_count": 87,
   "metadata": {
    "scrolled": true
   },
   "outputs": [
    {
     "data": {
      "image/png": "[encoded data removed]",
      "text/plain": [
       "<Figure size 1080x720 with 1 Axes>"
      ]
     },
     "metadata": {},
     "output_type": "display_data"
    }
   ],
   "source": [
    "US=df[df.Country==\"US\"]\n",
    "\n",
    "sns.set(rc={'figure.figsize':(15,10)})\n",
    "sns.lineplot(x=\"Date\",y=\"Deaths\",data=US,color='g')\n",
    "\n",
    "plt.show()"
   ]
  },
  {
   "cell_type": "code",
   "execution_count": 88,
   "metadata": {
    "scrolled": true
   },
   "outputs": [],
   "source": [
    "#death cases are found highest in USA followed by italy,UK,Spain and France\n"
   ]
  },
  {
   "cell_type": "code",
   "execution_count": 89,
   "metadata": {
    "scrolled": true
   },
   "outputs": [
    {
     "name": "stdout",
     "output_type": "stream",
     "text": [
      "Date\n",
      "2020-05-26    5589626\n",
      "2020-05-25    5495061\n",
      "2020-05-24    5407613\n",
      "2020-05-23    5310362\n",
      "2020-05-22    5210817\n",
      "               ...   \n",
      "2020-01-26       2118\n",
      "2020-01-25       1434\n",
      "2020-01-24        941\n",
      "2020-01-23        654\n",
      "2020-01-22        555\n",
      "Name: Confirmed, Length: 126, dtype: int64\n"
     ]
    }
   ],
   "source": [
    "confirmed_cases = df.groupby('Date').sum()\n",
    "pt =confirmed_cases['Confirmed'].sort_values(ascending = False)\n",
    "\n",
    "print(pt)"
   ]
  },
  {
   "cell_type": "code",
   "execution_count": null,
   "metadata": {
    "scrolled": true
   },
   "outputs": [],
   "source": []
  },
  {
   "cell_type": "code",
   "execution_count": 90,
   "metadata": {
    "scrolled": true
   },
   "outputs": [
    {
     "data": {
      "image/png": "[encoded data removed]",
      "text/plain": [
       "<Figure size 1080x432 with 1 Axes>"
      ]
     },
     "metadata": {},
     "output_type": "display_data"
    },
    {
     "name": "stdout",
     "output_type": "stream",
     "text": [
      "Date\n",
      "2020-05-26    5589626\n",
      "2020-05-25    5495061\n",
      "2020-05-24    5407613\n",
      "2020-05-23    5310362\n",
      "2020-05-22    5210817\n",
      "               ...   \n",
      "2020-01-26       2118\n",
      "2020-01-25       1434\n",
      "2020-01-24        941\n",
      "2020-01-23        654\n",
      "2020-01-22        555\n",
      "Name: Confirmed, Length: 126, dtype: int64\n"
     ]
    }
   ],
   "source": [
    "plt.subplots(figsize = (15, 6))\n",
    "confirmed_cases = df.groupby('Date').sum()\n",
    "pt = confirmed_cases['Confirmed'].sort_values(ascending = False)\n",
    "\n",
    "ax = pt.plot.bar()\n",
    "\n",
    "ax.set_xlabel('Date')\n",
    "ax.set_ylabel('Total Number of confirmed_cases')\n",
    "ax.set_title('countrywise total confirmed_cases')\n",
    "plt.show()\n",
    "print(pt)"
   ]
  },
  {
   "cell_type": "code",
   "execution_count": 91,
   "metadata": {
    "scrolled": true
   },
   "outputs": [],
   "source": [
    "#Fom statistical report we can understand number of confirmed cases was in peak highest in month of nay,the figure shows cases were negligable in month of jan and feb\n",
    "#which gradually started increasing and reached peak on 26/5/2020=5589626"
   ]
  },
  {
   "cell_type": "code",
   "execution_count": 92,
   "metadata": {
    "scrolled": true
   },
   "outputs": [],
   "source": [
    "#as we know US has highest hisghest recovery rate and confirmed cases lets analyse US data"
   ]
  },
  {
   "cell_type": "code",
   "execution_count": 93,
   "metadata": {
    "scrolled": true
   },
   "outputs": [
    {
     "data": {
      "text/plain": [
       "<seaborn.axisgrid.PairGrid at 0x2883c8b7520>"
      ]
     },
     "execution_count": 93,
     "metadata": {},
     "output_type": "execute_result"
    },
    {
     "data": {
      "image/png": "[encoded data removed]",
      "text/plain": [
       "<Figure size 540x540 with 12 Axes>"
      ]
     },
     "metadata": {},
     "output_type": "display_data"
    }
   ],
   "source": [
    "sns.pairplot(df)"
   ]
  },
  {
   "cell_type": "code",
   "execution_count": 94,
   "metadata": {
    "scrolled": true
   },
   "outputs": [
    {
     "data": {
      "text/plain": [
       "<matplotlib.axes._subplots.AxesSubplot at 0x2883ee4f790>"
      ]
     },
     "execution_count": 94,
     "metadata": {},
     "output_type": "execute_result"
    },
    {
     "data": {
      "image/png": "[encoded data removed]",
      "text/plain": [
       "<Figure size 1080x720 with 1 Axes>"
      ]
     },
     "metadata": {},
     "output_type": "display_data"
    }
   ],
   "source": [
    "sns.barplot(y='Confirmed',x='Deaths',data=df)"
   ]
  },
  {
   "cell_type": "code",
   "execution_count": 95,
   "metadata": {
    "scrolled": true
   },
   "outputs": [
    {
     "data": {
      "text/plain": [
       "Index(['Date', 'Country'], dtype='object')"
      ]
     },
     "execution_count": 95,
     "metadata": {},
     "output_type": "execute_result"
    }
   ],
   "source": [
    "df.select_dtypes(include=['object']).columns"
   ]
  },
  {
   "cell_type": "code",
   "execution_count": 96,
   "metadata": {
    "scrolled": true
   },
   "outputs": [
    {
     "data": {
      "text/html": [
       "<div>\n",
       "<style scoped>\n",
       "    .dataframe tbody tr th:only-of-type {\n",
       "        vertical-align: middle;\n",
       "    }\n",
       "\n",
       "    .dataframe tbody tr th {\n",
       "        vertical-align: top;\n",
       "    }\n",
       "\n",
       "    .dataframe thead th {\n",
       "        text-align: right;\n",
       "    }\n",
       "</style>\n",
       "<table border=\"1\" class=\"dataframe\">\n",
       "  <thead>\n",
       "    <tr style=\"text-align: right;\">\n",
       "      <th></th>\n",
       "      <th>Date</th>\n",
       "      <th>Country</th>\n",
       "      <th>Confirmed</th>\n",
       "      <th>Recovered</th>\n",
       "      <th>Deaths</th>\n",
       "    </tr>\n",
       "  </thead>\n",
       "  <tbody>\n",
       "    <tr>\n",
       "      <th>0</th>\n",
       "      <td>2020-01-22</td>\n",
       "      <td>Afghanistan</td>\n",
       "      <td>0</td>\n",
       "      <td>0</td>\n",
       "      <td>0</td>\n",
       "    </tr>\n",
       "    <tr>\n",
       "      <th>1</th>\n",
       "      <td>2020-01-22</td>\n",
       "      <td>Albania</td>\n",
       "      <td>0</td>\n",
       "      <td>0</td>\n",
       "      <td>0</td>\n",
       "    </tr>\n",
       "    <tr>\n",
       "      <th>2</th>\n",
       "      <td>2020-01-22</td>\n",
       "      <td>Algeria</td>\n",
       "      <td>0</td>\n",
       "      <td>0</td>\n",
       "      <td>0</td>\n",
       "    </tr>\n",
       "    <tr>\n",
       "      <th>3</th>\n",
       "      <td>2020-01-22</td>\n",
       "      <td>Andorra</td>\n",
       "      <td>0</td>\n",
       "      <td>0</td>\n",
       "      <td>0</td>\n",
       "    </tr>\n",
       "    <tr>\n",
       "      <th>4</th>\n",
       "      <td>2020-01-22</td>\n",
       "      <td>Angola</td>\n",
       "      <td>0</td>\n",
       "      <td>0</td>\n",
       "      <td>0</td>\n",
       "    </tr>\n",
       "  </tbody>\n",
       "</table>\n",
       "</div>"
      ],
      "text/plain": [
       "         Date      Country  Confirmed  Recovered  Deaths\n",
       "0  2020-01-22  Afghanistan          0          0       0\n",
       "1  2020-01-22      Albania          0          0       0\n",
       "2  2020-01-22      Algeria          0          0       0\n",
       "3  2020-01-22      Andorra          0          0       0\n",
       "4  2020-01-22       Angola          0          0       0"
      ]
     },
     "execution_count": 96,
     "metadata": {},
     "output_type": "execute_result"
    }
   ],
   "source": [
    "df.head()"
   ]
  },
  {
   "cell_type": "code",
   "execution_count": 97,
   "metadata": {
    "scrolled": true
   },
   "outputs": [
    {
     "data": {
      "text/html": [
       "<div>\n",
       "<style scoped>\n",
       "    .dataframe tbody tr th:only-of-type {\n",
       "        vertical-align: middle;\n",
       "    }\n",
       "\n",
       "    .dataframe tbody tr th {\n",
       "        vertical-align: top;\n",
       "    }\n",
       "\n",
       "    .dataframe thead th {\n",
       "        text-align: right;\n",
       "    }\n",
       "</style>\n",
       "<table border=\"1\" class=\"dataframe\">\n",
       "  <thead>\n",
       "    <tr style=\"text-align: right;\">\n",
       "      <th></th>\n",
       "      <th>Date</th>\n",
       "      <th>Country</th>\n",
       "      <th>Confirmed</th>\n",
       "      <th>Recovered</th>\n",
       "      <th>Deaths</th>\n",
       "    </tr>\n",
       "  </thead>\n",
       "  <tbody>\n",
       "    <tr>\n",
       "      <th>23668</th>\n",
       "      <td>2020-05-26</td>\n",
       "      <td>Thailand</td>\n",
       "      <td>3045</td>\n",
       "      <td>2929</td>\n",
       "      <td>57</td>\n",
       "    </tr>\n",
       "    <tr>\n",
       "      <th>23669</th>\n",
       "      <td>2020-05-26</td>\n",
       "      <td>Timor-Leste</td>\n",
       "      <td>24</td>\n",
       "      <td>24</td>\n",
       "      <td>0</td>\n",
       "    </tr>\n",
       "    <tr>\n",
       "      <th>23670</th>\n",
       "      <td>2020-05-26</td>\n",
       "      <td>Togo</td>\n",
       "      <td>391</td>\n",
       "      <td>177</td>\n",
       "      <td>13</td>\n",
       "    </tr>\n",
       "    <tr>\n",
       "      <th>23671</th>\n",
       "      <td>2020-05-26</td>\n",
       "      <td>Trinidad and Tobago</td>\n",
       "      <td>116</td>\n",
       "      <td>108</td>\n",
       "      <td>8</td>\n",
       "    </tr>\n",
       "    <tr>\n",
       "      <th>23672</th>\n",
       "      <td>2020-05-26</td>\n",
       "      <td>Tunisia</td>\n",
       "      <td>1051</td>\n",
       "      <td>929</td>\n",
       "      <td>48</td>\n",
       "    </tr>\n",
       "    <tr>\n",
       "      <th>23673</th>\n",
       "      <td>2020-05-26</td>\n",
       "      <td>Turkey</td>\n",
       "      <td>158762</td>\n",
       "      <td>121507</td>\n",
       "      <td>4397</td>\n",
       "    </tr>\n",
       "    <tr>\n",
       "      <th>23674</th>\n",
       "      <td>2020-05-26</td>\n",
       "      <td>US</td>\n",
       "      <td>1680913</td>\n",
       "      <td>384902</td>\n",
       "      <td>98913</td>\n",
       "    </tr>\n",
       "    <tr>\n",
       "      <th>23675</th>\n",
       "      <td>2020-05-26</td>\n",
       "      <td>Uganda</td>\n",
       "      <td>253</td>\n",
       "      <td>69</td>\n",
       "      <td>0</td>\n",
       "    </tr>\n",
       "    <tr>\n",
       "      <th>23676</th>\n",
       "      <td>2020-05-26</td>\n",
       "      <td>Ukraine</td>\n",
       "      <td>21584</td>\n",
       "      <td>7575</td>\n",
       "      <td>644</td>\n",
       "    </tr>\n",
       "    <tr>\n",
       "      <th>23677</th>\n",
       "      <td>2020-05-26</td>\n",
       "      <td>United Arab Emirates</td>\n",
       "      <td>31086</td>\n",
       "      <td>15982</td>\n",
       "      <td>253</td>\n",
       "    </tr>\n",
       "    <tr>\n",
       "      <th>23678</th>\n",
       "      <td>2020-05-26</td>\n",
       "      <td>United Kingdom</td>\n",
       "      <td>266599</td>\n",
       "      <td>1161</td>\n",
       "      <td>37130</td>\n",
       "    </tr>\n",
       "    <tr>\n",
       "      <th>23679</th>\n",
       "      <td>2020-05-26</td>\n",
       "      <td>Uruguay</td>\n",
       "      <td>789</td>\n",
       "      <td>638</td>\n",
       "      <td>22</td>\n",
       "    </tr>\n",
       "    <tr>\n",
       "      <th>23680</th>\n",
       "      <td>2020-05-26</td>\n",
       "      <td>Uzbekistan</td>\n",
       "      <td>3290</td>\n",
       "      <td>2636</td>\n",
       "      <td>14</td>\n",
       "    </tr>\n",
       "    <tr>\n",
       "      <th>23681</th>\n",
       "      <td>2020-05-26</td>\n",
       "      <td>Venezuela</td>\n",
       "      <td>1211</td>\n",
       "      <td>302</td>\n",
       "      <td>11</td>\n",
       "    </tr>\n",
       "    <tr>\n",
       "      <th>23682</th>\n",
       "      <td>2020-05-26</td>\n",
       "      <td>Vietnam</td>\n",
       "      <td>327</td>\n",
       "      <td>272</td>\n",
       "      <td>0</td>\n",
       "    </tr>\n",
       "    <tr>\n",
       "      <th>23683</th>\n",
       "      <td>2020-05-26</td>\n",
       "      <td>West Bank and Gaza</td>\n",
       "      <td>429</td>\n",
       "      <td>365</td>\n",
       "      <td>3</td>\n",
       "    </tr>\n",
       "    <tr>\n",
       "      <th>23684</th>\n",
       "      <td>2020-05-26</td>\n",
       "      <td>Western Sahara</td>\n",
       "      <td>9</td>\n",
       "      <td>6</td>\n",
       "      <td>1</td>\n",
       "    </tr>\n",
       "    <tr>\n",
       "      <th>23685</th>\n",
       "      <td>2020-05-26</td>\n",
       "      <td>Yemen</td>\n",
       "      <td>249</td>\n",
       "      <td>10</td>\n",
       "      <td>49</td>\n",
       "    </tr>\n",
       "    <tr>\n",
       "      <th>23686</th>\n",
       "      <td>2020-05-26</td>\n",
       "      <td>Zambia</td>\n",
       "      <td>920</td>\n",
       "      <td>336</td>\n",
       "      <td>7</td>\n",
       "    </tr>\n",
       "    <tr>\n",
       "      <th>23687</th>\n",
       "      <td>2020-05-26</td>\n",
       "      <td>Zimbabwe</td>\n",
       "      <td>56</td>\n",
       "      <td>25</td>\n",
       "      <td>4</td>\n",
       "    </tr>\n",
       "  </tbody>\n",
       "</table>\n",
       "</div>"
      ],
      "text/plain": [
       "             Date               Country  Confirmed  Recovered  Deaths\n",
       "23668  2020-05-26              Thailand       3045       2929      57\n",
       "23669  2020-05-26           Timor-Leste         24         24       0\n",
       "23670  2020-05-26                  Togo        391        177      13\n",
       "23671  2020-05-26   Trinidad and Tobago        116        108       8\n",
       "23672  2020-05-26               Tunisia       1051        929      48\n",
       "23673  2020-05-26                Turkey     158762     121507    4397\n",
       "23674  2020-05-26                    US    1680913     384902   98913\n",
       "23675  2020-05-26                Uganda        253         69       0\n",
       "23676  2020-05-26               Ukraine      21584       7575     644\n",
       "23677  2020-05-26  United Arab Emirates      31086      15982     253\n",
       "23678  2020-05-26        United Kingdom     266599       1161   37130\n",
       "23679  2020-05-26               Uruguay        789        638      22\n",
       "23680  2020-05-26            Uzbekistan       3290       2636      14\n",
       "23681  2020-05-26             Venezuela       1211        302      11\n",
       "23682  2020-05-26               Vietnam        327        272       0\n",
       "23683  2020-05-26    West Bank and Gaza        429        365       3\n",
       "23684  2020-05-26        Western Sahara          9          6       1\n",
       "23685  2020-05-26                 Yemen        249         10      49\n",
       "23686  2020-05-26                Zambia        920        336       7\n",
       "23687  2020-05-26              Zimbabwe         56         25       4"
      ]
     },
     "execution_count": 97,
     "metadata": {},
     "output_type": "execute_result"
    }
   ],
   "source": [
    "df.tail(20)"
   ]
  },
  {
   "cell_type": "code",
   "execution_count": 98,
   "metadata": {
    "scrolled": true
   },
   "outputs": [],
   "source": [
    "#this data shows 26th may month of 2020 was the last updated data into this dataset"
   ]
  },
  {
   "cell_type": "code",
   "execution_count": null,
   "metadata": {
    "scrolled": true
   },
   "outputs": [],
   "source": []
  },
  {
   "cell_type": "code",
   "execution_count": 99,
   "metadata": {
    "scrolled": true
   },
   "outputs": [],
   "source": [
    "da=pd.to_datetime(df['Date'],errors='coerce')\n",
    "df['Date']=da.dt.strftime(\"%Y%m%d\").astype(int)"
   ]
  },
  {
   "cell_type": "code",
   "execution_count": 100,
   "metadata": {
    "scrolled": true
   },
   "outputs": [],
   "source": [
    "from sklearn import preprocessing\n",
    "le = preprocessing.LabelEncoder()\n",
    "\n",
    "x=df.iloc[:,1].values\n",
    "df.iloc[:,1]=le.fit_transform(x.astype(str))"
   ]
  },
  {
   "cell_type": "code",
   "execution_count": 101,
   "metadata": {
    "scrolled": true
   },
   "outputs": [
    {
     "data": {
      "text/html": [
       "<div>\n",
       "<style scoped>\n",
       "    .dataframe tbody tr th:only-of-type {\n",
       "        vertical-align: middle;\n",
       "    }\n",
       "\n",
       "    .dataframe tbody tr th {\n",
       "        vertical-align: top;\n",
       "    }\n",
       "\n",
       "    .dataframe thead th {\n",
       "        text-align: right;\n",
       "    }\n",
       "</style>\n",
       "<table border=\"1\" class=\"dataframe\">\n",
       "  <thead>\n",
       "    <tr style=\"text-align: right;\">\n",
       "      <th></th>\n",
       "      <th>Date</th>\n",
       "      <th>Country</th>\n",
       "      <th>Confirmed</th>\n",
       "      <th>Recovered</th>\n",
       "      <th>Deaths</th>\n",
       "    </tr>\n",
       "  </thead>\n",
       "  <tbody>\n",
       "    <tr>\n",
       "      <th>0</th>\n",
       "      <td>20200122</td>\n",
       "      <td>0</td>\n",
       "      <td>0</td>\n",
       "      <td>0</td>\n",
       "      <td>0</td>\n",
       "    </tr>\n",
       "    <tr>\n",
       "      <th>1</th>\n",
       "      <td>20200122</td>\n",
       "      <td>1</td>\n",
       "      <td>0</td>\n",
       "      <td>0</td>\n",
       "      <td>0</td>\n",
       "    </tr>\n",
       "    <tr>\n",
       "      <th>2</th>\n",
       "      <td>20200122</td>\n",
       "      <td>2</td>\n",
       "      <td>0</td>\n",
       "      <td>0</td>\n",
       "      <td>0</td>\n",
       "    </tr>\n",
       "    <tr>\n",
       "      <th>3</th>\n",
       "      <td>20200122</td>\n",
       "      <td>3</td>\n",
       "      <td>0</td>\n",
       "      <td>0</td>\n",
       "      <td>0</td>\n",
       "    </tr>\n",
       "    <tr>\n",
       "      <th>4</th>\n",
       "      <td>20200122</td>\n",
       "      <td>4</td>\n",
       "      <td>0</td>\n",
       "      <td>0</td>\n",
       "      <td>0</td>\n",
       "    </tr>\n",
       "  </tbody>\n",
       "</table>\n",
       "</div>"
      ],
      "text/plain": [
       "       Date  Country  Confirmed  Recovered  Deaths\n",
       "0  20200122        0          0          0       0\n",
       "1  20200122        1          0          0       0\n",
       "2  20200122        2          0          0       0\n",
       "3  20200122        3          0          0       0\n",
       "4  20200122        4          0          0       0"
      ]
     },
     "execution_count": 101,
     "metadata": {},
     "output_type": "execute_result"
    }
   ],
   "source": [
    "df.head()"
   ]
  },
  {
   "cell_type": "code",
   "execution_count": 102,
   "metadata": {
    "scrolled": true
   },
   "outputs": [],
   "source": [
    "#since we will need only int datatype to make predictions we convert date format"
   ]
  },
  {
   "cell_type": "code",
   "execution_count": 103,
   "metadata": {
    "scrolled": true
   },
   "outputs": [],
   "source": [
    "x=df.iloc[:,:-1]\n",
    "y=df.iloc[:,-1]\n",
    "from sklearn.model_selection import train_test_split\n"
   ]
  },
  {
   "cell_type": "code",
   "execution_count": 104,
   "metadata": {
    "scrolled": true
   },
   "outputs": [
    {
     "data": {
      "text/plain": [
       "((23688, 4), (23688,))"
      ]
     },
     "execution_count": 104,
     "metadata": {},
     "output_type": "execute_result"
    }
   ],
   "source": [
    "x.shape,y.shape"
   ]
  },
  {
   "cell_type": "code",
   "execution_count": 105,
   "metadata": {
    "scrolled": false
   },
   "outputs": [
    {
     "data": {
      "text/plain": [
       "(array([ 7932,  8120,  8308,  8496,  8684,  8872,  9060,  9248,  9436,\n",
       "         9624,  9812, 10000, 10188, 10376, 10564, 10752, 10940, 11128,\n",
       "        11316, 11504, 11692, 11880, 12068, 12256, 12444, 12632, 12820,\n",
       "        13008, 13146, 13196, 13245, 13334, 13384, 13433, 13522, 13572,\n",
       "        13621, 13710, 13760, 13809, 13898, 13948, 13997, 14070, 14086,\n",
       "        14136, 14185, 14258, 14274, 14274, 14324, 14373, 14446, 14462,\n",
       "        14462, 14512, 14561, 14634, 14634, 14650, 14650, 14700, 14730,\n",
       "        14749, 14822, 14822, 14838, 14838, 14888, 14914, 14918, 14937,\n",
       "        15010, 15010, 15026, 15026, 15076, 15102, 15106, 15125, 15198,\n",
       "        15198, 15214, 15214, 15264, 15290, 15294, 15313, 15386, 15386,\n",
       "        15402, 15402, 15452, 15478, 15482, 15501, 15574, 15574, 15590,\n",
       "        15590, 15594, 15640, 15666, 15670, 15685, 15689, 15762, 15762,\n",
       "        15778, 15778, 15782, 15828, 15854, 15858, 15873, 15877, 15950,\n",
       "        15950, 15966, 15966, 15966, 15970, 16016, 16042, 16046, 16061,\n",
       "        16065, 16138, 16138, 16138, 16154, 16154, 16154, 16158, 16204,\n",
       "        16230, 16234, 16249, 16253, 16326, 16326, 16326, 16342, 16342,\n",
       "        16342, 16346, 16392, 16418, 16422, 16437, 16441, 16514, 16514,\n",
       "        16514, 16530, 16530, 16530, 16534, 16580, 16606, 16610, 16625,\n",
       "        16629, 16702, 16702, 16702, 16718, 16718, 16718, 16722, 16768,\n",
       "        16794, 16798, 16813, 16817, 16817, 16890, 16890, 16890, 16906,\n",
       "        16906, 16906, 16910, 16956, 16982, 16986, 17001, 17005, 17005,\n",
       "        17005, 17078, 17078, 17078, 17094, 17094, 17094, 17098, 17144,\n",
       "        17170, 17174, 17189, 17193, 17193, 17193, 17266, 17266, 17266,\n",
       "        17282, 17282, 17282, 17286, 17332, 17358, 17362, 17377, 17381,\n",
       "        17381, 17381, 17454, 17454, 17454, 17470, 17470, 17470, 17474,\n",
       "        17520, 17546, 17550, 17565, 17569, 17569, 17569, 17642, 17642,\n",
       "        17642, 17658, 17658, 17658, 17662, 17708, 17734, 17738, 17753,\n",
       "        17757, 17757, 17757, 17830, 17830, 17830, 17846, 17846, 17846,\n",
       "        17850, 17896, 17922, 17926, 17941, 17945, 17945, 17945, 18018,\n",
       "        18018, 18018, 18034, 18034, 18034, 18038, 18084, 18110, 18114,\n",
       "        18129, 18133, 18133, 18133, 18206, 18206, 18206, 18222, 18222,\n",
       "        18222, 18226, 18272, 18298, 18302, 18317, 18321, 18321, 18321,\n",
       "        18394, 18394, 18394, 18410, 18410, 18410, 18414, 18460, 18486,\n",
       "        18486, 18490, 18505, 18509, 18509, 18509, 18582, 18582, 18582,\n",
       "        18598, 18598, 18598, 18602, 18648, 18674, 18674, 18678, 18693,\n",
       "        18697, 18697, 18697, 18770, 18770, 18770, 18785, 18786, 18786,\n",
       "        18786, 18790, 18836, 18862, 18862, 18866, 18881, 18885, 18885,\n",
       "        18885, 18958, 18958, 18958, 18973, 18974, 18974, 18974, 18978,\n",
       "        19024, 19050, 19050, 19054, 19069, 19073, 19073, 19073, 19146,\n",
       "        19146, 19146, 19161, 19162, 19162, 19162, 19166, 19166, 19212,\n",
       "        19238, 19238, 19242, 19257, 19261, 19261, 19261, 19334, 19334,\n",
       "        19334, 19349, 19350, 19350, 19350, 19354, 19354, 19400, 19426,\n",
       "        19426, 19430, 19445, 19449, 19449, 19449, 19522, 19522, 19522,\n",
       "        19537, 19538, 19538, 19538, 19542, 19542, 19575, 19588, 19614,\n",
       "        19614, 19618, 19633, 19637, 19637, 19637, 19710, 19710, 19710,\n",
       "        19725, 19726, 19726, 19726, 19730, 19730, 19763, 19776, 19802,\n",
       "        19802, 19806, 19821, 19825, 19825, 19825, 19898, 19898, 19898,\n",
       "        19913, 19914, 19914, 19914, 19918, 19918, 19951, 19964, 19990,\n",
       "        19990, 19994, 20009, 20013, 20013, 20013, 20086, 20086, 20086,\n",
       "        20101, 20102, 20102, 20102, 20106, 20106, 20139, 20152, 20178,\n",
       "        20178, 20182, 20197, 20201, 20201, 20201, 20256, 20274, 20274,\n",
       "        20274, 20289, 20290, 20290, 20290, 20294, 20294, 20327, 20340,\n",
       "        20366, 20366, 20370, 20385, 20389, 20389, 20389, 20444, 20462,\n",
       "        20462, 20462, 20477, 20478, 20478, 20478, 20482, 20482, 20515,\n",
       "        20528, 20554, 20554, 20558, 20573, 20577, 20577, 20577, 20632,\n",
       "        20650, 20650, 20650, 20665, 20666, 20666, 20666, 20670, 20670,\n",
       "        20703, 20716, 20742, 20742, 20746, 20761, 20765, 20765, 20765,\n",
       "        20820, 20838, 20838, 20838, 20853, 20854, 20854, 20854, 20858,\n",
       "        20858, 20891, 20904, 20930, 20930, 20934, 20949, 20953, 20953,\n",
       "        20953, 21008, 21026, 21026, 21026, 21041, 21042, 21042, 21042,\n",
       "        21046, 21046, 21079, 21079, 21079, 21092, 21118, 21118, 21122,\n",
       "        21137, 21141, 21141, 21141, 21196, 21214, 21214, 21214, 21229,\n",
       "        21230, 21230, 21230, 21234, 21234, 21267, 21267, 21267, 21280,\n",
       "        21306, 21306, 21310, 21325, 21329, 21329, 21329, 21384, 21384,\n",
       "        21402, 21402, 21402, 21417, 21418, 21418, 21418, 21422, 21422,\n",
       "        21455, 21455, 21455, 21468, 21494, 21494, 21498, 21513, 21517,\n",
       "        21517, 21517, 21572, 21572, 21590, 21590, 21590, 21605, 21606,\n",
       "        21606, 21606, 21610, 21610, 21643, 21643, 21643, 21656, 21682,\n",
       "        21682, 21686, 21701, 21705, 21705, 21705, 21760, 21760, 21778,\n",
       "        21778, 21778, 21793, 21794, 21794, 21794, 21798, 21798, 21831,\n",
       "        21831, 21831, 21844, 21870, 21870, 21874, 21889, 21893, 21893,\n",
       "        21893, 21948, 21948, 21966, 21966, 21966, 21981, 21982, 21982,\n",
       "        21982, 21986, 21986, 22019, 22019, 22019, 22032, 22058, 22058,\n",
       "        22062, 22077, 22081, 22081, 22081, 22136, 22136, 22154, 22154,\n",
       "        22154, 22169, 22170, 22170, 22170, 22174, 22174, 22207, 22207,\n",
       "        22207, 22220, 22246, 22246, 22250, 22265, 22269, 22269, 22269,\n",
       "        22324, 22324, 22342, 22342, 22342, 22357, 22358, 22358, 22358,\n",
       "        22362, 22362, 22395, 22395, 22395, 22408, 22434, 22434, 22438,\n",
       "        22453, 22457, 22457, 22457, 22512, 22512, 22530, 22530, 22530,\n",
       "        22545, 22546, 22546, 22546, 22550, 22550, 22583, 22583, 22583,\n",
       "        22596, 22622, 22622, 22626, 22639, 22641, 22645, 22645, 22645,\n",
       "        22700, 22700, 22718, 22718, 22718, 22733, 22734, 22734, 22734,\n",
       "        22738, 22738, 22771, 22771, 22771, 22784, 22810, 22810, 22814,\n",
       "        22827, 22829, 22833, 22833, 22833, 22888, 22888, 22906, 22906,\n",
       "        22906, 22921, 22922, 22922, 22922, 22926, 22926, 22959, 22959,\n",
       "        22959, 22972, 22998, 22998, 23002, 23015, 23017, 23021, 23021,\n",
       "        23021, 23076, 23076, 23094, 23094, 23094, 23109, 23110, 23110,\n",
       "        23110, 23114, 23114, 23147, 23147, 23147, 23160, 23186, 23186,\n",
       "        23190, 23203, 23205, 23209, 23209, 23209, 23258, 23264, 23264,\n",
       "        23282, 23282, 23282, 23297, 23298, 23298, 23298, 23302, 23302,\n",
       "        23335, 23335, 23335, 23348, 23374, 23374, 23378, 23391, 23393,\n",
       "        23397, 23397, 23397, 23425, 23446, 23452, 23452, 23470, 23470,\n",
       "        23470, 23485, 23486, 23486, 23486, 23490, 23490, 23523, 23523,\n",
       "        23523, 23536, 23562, 23562, 23566, 23579, 23581, 23585, 23585,\n",
       "        23585, 23613, 23634, 23640, 23640, 23647, 23658, 23658, 23658,\n",
       "        23673, 23674, 23674, 23674, 23678, 23678], dtype=int64),\n",
       " array([3, 3, 3, 3, 3, 3, 3, 3, 3, 3, 3, 3, 3, 3, 3, 3, 3, 3, 3, 3, 3, 3,\n",
       "        3, 3, 3, 3, 3, 3, 2, 3, 4, 2, 3, 4, 2, 3, 4, 2, 3, 4, 2, 3, 4, 4,\n",
       "        2, 3, 4, 4, 2, 4, 3, 4, 4, 2, 4, 3, 4, 3, 4, 2, 4, 3, 3, 4, 3, 4,\n",
       "        2, 4, 3, 4, 3, 4, 3, 4, 2, 4, 3, 4, 3, 4, 3, 4, 2, 4, 3, 4, 3, 4,\n",
       "        3, 4, 2, 4, 3, 4, 3, 4, 3, 4, 2, 4, 4, 3, 4, 3, 3, 4, 3, 4, 2, 4,\n",
       "        4, 3, 4, 3, 3, 4, 3, 4, 2, 3, 4, 4, 3, 4, 3, 3, 4, 2, 3, 4, 2, 3,\n",
       "        4, 4, 3, 4, 3, 3, 4, 2, 3, 4, 2, 3, 4, 4, 3, 4, 3, 3, 4, 2, 3, 4,\n",
       "        2, 3, 4, 4, 3, 4, 3, 3, 4, 2, 3, 4, 2, 3, 4, 4, 3, 4, 3, 3, 3, 4,\n",
       "        2, 3, 4, 2, 3, 4, 4, 3, 4, 3, 3, 2, 3, 4, 2, 3, 4, 2, 3, 4, 4, 3,\n",
       "        4, 3, 3, 2, 3, 4, 2, 3, 4, 2, 3, 4, 4, 3, 4, 3, 3, 2, 3, 4, 2, 3,\n",
       "        4, 2, 3, 4, 4, 3, 4, 3, 3, 2, 3, 4, 2, 3, 4, 2, 3, 4, 4, 3, 4, 3,\n",
       "        3, 2, 3, 4, 2, 3, 4, 2, 3, 4, 4, 3, 4, 3, 3, 2, 3, 4, 2, 3, 4, 2,\n",
       "        3, 4, 4, 3, 4, 3, 3, 2, 3, 4, 2, 3, 4, 2, 3, 4, 4, 3, 4, 3, 3, 2,\n",
       "        3, 4, 2, 3, 4, 2, 3, 4, 4, 3, 3, 4, 3, 3, 2, 3, 4, 2, 3, 4, 2, 3,\n",
       "        4, 4, 3, 3, 4, 3, 3, 2, 3, 4, 2, 3, 4, 3, 2, 3, 4, 4, 3, 3, 4, 3,\n",
       "        3, 2, 3, 4, 2, 3, 4, 3, 2, 3, 4, 4, 3, 3, 4, 3, 3, 2, 3, 4, 2, 3,\n",
       "        4, 3, 2, 3, 4, 2, 4, 3, 3, 4, 3, 3, 2, 3, 4, 2, 3, 4, 3, 2, 3, 4,\n",
       "        2, 4, 3, 3, 4, 3, 3, 2, 3, 4, 2, 3, 4, 3, 2, 3, 4, 2, 4, 3, 3, 3,\n",
       "        4, 3, 3, 2, 3, 4, 2, 3, 4, 3, 2, 3, 4, 2, 4, 3, 3, 3, 4, 3, 3, 2,\n",
       "        3, 4, 2, 3, 4, 3, 2, 3, 4, 2, 4, 3, 3, 3, 4, 3, 3, 2, 3, 4, 2, 3,\n",
       "        4, 3, 2, 3, 4, 2, 4, 3, 3, 3, 4, 3, 3, 2, 3, 4, 2, 2, 3, 4, 3, 2,\n",
       "        3, 4, 2, 4, 3, 3, 3, 4, 3, 3, 2, 3, 4, 2, 2, 3, 4, 3, 2, 3, 4, 2,\n",
       "        4, 3, 3, 3, 4, 3, 3, 2, 3, 4, 2, 2, 3, 4, 3, 2, 3, 4, 2, 4, 3, 3,\n",
       "        3, 4, 3, 3, 2, 3, 4, 2, 2, 3, 4, 3, 2, 3, 4, 2, 4, 3, 3, 3, 4, 3,\n",
       "        3, 2, 3, 4, 2, 2, 3, 4, 3, 2, 3, 4, 2, 4, 2, 3, 4, 3, 3, 4, 3, 3,\n",
       "        2, 3, 4, 2, 2, 3, 4, 3, 2, 3, 4, 2, 4, 2, 3, 4, 3, 3, 4, 3, 3, 2,\n",
       "        3, 4, 2, 3, 2, 3, 4, 3, 2, 3, 4, 2, 4, 2, 3, 4, 3, 3, 4, 3, 3, 2,\n",
       "        3, 4, 2, 3, 2, 3, 4, 3, 2, 3, 4, 2, 4, 2, 3, 4, 3, 3, 4, 3, 3, 2,\n",
       "        3, 4, 2, 3, 2, 3, 4, 3, 2, 3, 4, 2, 4, 2, 3, 4, 3, 3, 4, 3, 3, 2,\n",
       "        3, 4, 2, 3, 2, 3, 4, 3, 2, 3, 4, 2, 4, 2, 3, 4, 3, 3, 4, 3, 3, 2,\n",
       "        3, 4, 2, 3, 2, 3, 4, 3, 2, 3, 4, 2, 4, 2, 3, 4, 3, 3, 4, 3, 3, 2,\n",
       "        3, 4, 2, 3, 2, 3, 4, 3, 2, 3, 4, 2, 4, 2, 3, 4, 3, 3, 4, 3, 3, 2,\n",
       "        3, 4, 2, 3, 2, 3, 4, 3, 2, 3, 4, 2, 4, 2, 3, 4, 3, 3, 4, 3, 3, 3,\n",
       "        2, 3, 4, 2, 3, 2, 3, 4, 3, 2, 3, 4, 2, 4, 2, 3, 4, 3, 3, 4, 3, 3,\n",
       "        3, 2, 3, 4, 2, 3, 2, 3, 4, 3, 2, 3, 4, 2, 4, 2, 3, 4, 3, 3, 4, 3,\n",
       "        3, 3, 2, 3, 4, 2, 3, 2, 3, 4, 3, 2, 3, 4, 2, 4, 2, 3, 4, 3, 3, 4,\n",
       "        3, 3, 3, 2, 3, 4, 3, 2, 3, 2, 3, 4, 3, 2, 3, 4, 2, 4, 2, 3, 4, 3,\n",
       "        3, 4, 3, 3, 3, 2, 3, 4, 3, 3, 2, 3, 2, 3, 4, 3, 2, 3, 4, 2, 4, 2,\n",
       "        3, 4, 3, 3, 4, 3, 3, 3, 2, 3, 4, 3, 3, 2, 3, 3, 2, 3, 4, 3, 2, 3,\n",
       "        4, 2, 4], dtype=int64))"
      ]
     },
     "execution_count": 105,
     "metadata": {},
     "output_type": "execute_result"
    }
   ],
   "source": [
    "from scipy.stats import zscore\n",
    "import numpy as np\n",
    "z=np.abs(zscore(df))\n",
    "threshold=3\n",
    "np.where(z>3)"
   ]
  },
  {
   "cell_type": "code",
   "execution_count": 106,
   "metadata": {
    "scrolled": true
   },
   "outputs": [
    {
     "ename": "NameError",
     "evalue": "name 'x_train' is not defined",
     "output_type": "error",
     "traceback": [
      "\u001b[1;31m---------------------------------------------------------------------------\u001b[0m",
      "\u001b[1;31mNameError\u001b[0m                                 Traceback (most recent call last)",
      "\u001b[1;32m<ipython-input-106-97a0a5f08d13>\u001b[0m in \u001b[0;36m<module>\u001b[1;34m\u001b[0m\n\u001b[1;32m----> 1\u001b[1;33m \u001b[0mx_train\u001b[0m\u001b[1;33m,\u001b[0m\u001b[0mx_test\u001b[0m\u001b[1;33m,\u001b[0m\u001b[0my_train\u001b[0m\u001b[1;33m,\u001b[0m\u001b[0my_test\u001b[0m\u001b[1;33m=\u001b[0m\u001b[0mtrain_test_split\u001b[0m\u001b[1;33m(\u001b[0m\u001b[0mx_train\u001b[0m\u001b[1;33m,\u001b[0m\u001b[0my_train\u001b[0m\u001b[1;33m,\u001b[0m\u001b[0mtest_size\u001b[0m\u001b[1;33m=\u001b[0m\u001b[1;36m0.2\u001b[0m\u001b[1;33m,\u001b[0m\u001b[0mrandom_state\u001b[0m\u001b[1;33m=\u001b[0m\u001b[1;36m0\u001b[0m\u001b[1;33m)\u001b[0m\u001b[1;33m\u001b[0m\u001b[1;33m\u001b[0m\u001b[0m\n\u001b[0m",
      "\u001b[1;31mNameError\u001b[0m: name 'x_train' is not defined"
     ]
    }
   ],
   "source": [
    "x_train,x_test,y_train,y_test=train_test_split(x_train,y_train,test_size=0.2,random_state=0)\n"
   ]
  },
  {
   "cell_type": "code",
   "execution_count": 107,
   "metadata": {
    "scrolled": true
   },
   "outputs": [
    {
     "data": {
      "text/html": [
       "<div>\n",
       "<style scoped>\n",
       "    .dataframe tbody tr th:only-of-type {\n",
       "        vertical-align: middle;\n",
       "    }\n",
       "\n",
       "    .dataframe tbody tr th {\n",
       "        vertical-align: top;\n",
       "    }\n",
       "\n",
       "    .dataframe thead th {\n",
       "        text-align: right;\n",
       "    }\n",
       "</style>\n",
       "<table border=\"1\" class=\"dataframe\">\n",
       "  <thead>\n",
       "    <tr style=\"text-align: right;\">\n",
       "      <th></th>\n",
       "      <th>Date</th>\n",
       "      <th>Country</th>\n",
       "      <th>Confirmed</th>\n",
       "      <th>Recovered</th>\n",
       "      <th>Deaths</th>\n",
       "    </tr>\n",
       "  </thead>\n",
       "  <tbody>\n",
       "    <tr>\n",
       "      <th>0</th>\n",
       "      <td>20200122</td>\n",
       "      <td>0</td>\n",
       "      <td>0</td>\n",
       "      <td>0</td>\n",
       "      <td>0</td>\n",
       "    </tr>\n",
       "    <tr>\n",
       "      <th>1</th>\n",
       "      <td>20200122</td>\n",
       "      <td>1</td>\n",
       "      <td>0</td>\n",
       "      <td>0</td>\n",
       "      <td>0</td>\n",
       "    </tr>\n",
       "    <tr>\n",
       "      <th>2</th>\n",
       "      <td>20200122</td>\n",
       "      <td>2</td>\n",
       "      <td>0</td>\n",
       "      <td>0</td>\n",
       "      <td>0</td>\n",
       "    </tr>\n",
       "    <tr>\n",
       "      <th>3</th>\n",
       "      <td>20200122</td>\n",
       "      <td>3</td>\n",
       "      <td>0</td>\n",
       "      <td>0</td>\n",
       "      <td>0</td>\n",
       "    </tr>\n",
       "    <tr>\n",
       "      <th>4</th>\n",
       "      <td>20200122</td>\n",
       "      <td>4</td>\n",
       "      <td>0</td>\n",
       "      <td>0</td>\n",
       "      <td>0</td>\n",
       "    </tr>\n",
       "    <tr>\n",
       "      <th>...</th>\n",
       "      <td>...</td>\n",
       "      <td>...</td>\n",
       "      <td>...</td>\n",
       "      <td>...</td>\n",
       "      <td>...</td>\n",
       "    </tr>\n",
       "    <tr>\n",
       "      <th>23683</th>\n",
       "      <td>20200526</td>\n",
       "      <td>183</td>\n",
       "      <td>429</td>\n",
       "      <td>365</td>\n",
       "      <td>3</td>\n",
       "    </tr>\n",
       "    <tr>\n",
       "      <th>23684</th>\n",
       "      <td>20200526</td>\n",
       "      <td>184</td>\n",
       "      <td>9</td>\n",
       "      <td>6</td>\n",
       "      <td>1</td>\n",
       "    </tr>\n",
       "    <tr>\n",
       "      <th>23685</th>\n",
       "      <td>20200526</td>\n",
       "      <td>185</td>\n",
       "      <td>249</td>\n",
       "      <td>10</td>\n",
       "      <td>49</td>\n",
       "    </tr>\n",
       "    <tr>\n",
       "      <th>23686</th>\n",
       "      <td>20200526</td>\n",
       "      <td>186</td>\n",
       "      <td>920</td>\n",
       "      <td>336</td>\n",
       "      <td>7</td>\n",
       "    </tr>\n",
       "    <tr>\n",
       "      <th>23687</th>\n",
       "      <td>20200526</td>\n",
       "      <td>187</td>\n",
       "      <td>56</td>\n",
       "      <td>25</td>\n",
       "      <td>4</td>\n",
       "    </tr>\n",
       "  </tbody>\n",
       "</table>\n",
       "<p>23177 rows × 5 columns</p>\n",
       "</div>"
      ],
      "text/plain": [
       "           Date  Country  Confirmed  Recovered  Deaths\n",
       "0      20200122        0          0          0       0\n",
       "1      20200122        1          0          0       0\n",
       "2      20200122        2          0          0       0\n",
       "3      20200122        3          0          0       0\n",
       "4      20200122        4          0          0       0\n",
       "...         ...      ...        ...        ...     ...\n",
       "23683  20200526      183        429        365       3\n",
       "23684  20200526      184          9          6       1\n",
       "23685  20200526      185        249         10      49\n",
       "23686  20200526      186        920        336       7\n",
       "23687  20200526      187         56         25       4\n",
       "\n",
       "[23177 rows x 5 columns]"
      ]
     },
     "execution_count": 107,
     "metadata": {},
     "output_type": "execute_result"
    }
   ],
   "source": [
    "new_df=df[(z<3).all(axis=1)]\n",
    "new_df"
   ]
  },
  {
   "cell_type": "code",
   "execution_count": 108,
   "metadata": {
    "scrolled": true
   },
   "outputs": [
    {
     "data": {
      "text/plain": [
       "(23177, 5)"
      ]
     },
     "execution_count": 108,
     "metadata": {},
     "output_type": "execute_result"
    }
   ],
   "source": [
    "new_df.shape"
   ]
  },
  {
   "cell_type": "code",
   "execution_count": 109,
   "metadata": {
    "scrolled": true
   },
   "outputs": [
    {
     "data": {
      "text/plain": [
       "(23688, 5)"
      ]
     },
     "execution_count": 109,
     "metadata": {},
     "output_type": "execute_result"
    }
   ],
   "source": [
    "df.shape"
   ]
  },
  {
   "cell_type": "code",
   "execution_count": 110,
   "metadata": {
    "scrolled": true
   },
   "outputs": [
    {
     "name": "stdout",
     "output_type": "stream",
     "text": [
      "2.157210401891253\n"
     ]
    }
   ],
   "source": [
    "percentage_loss=((23688-23177)/23688)*100\n",
    "print(percentage_loss)"
   ]
  },
  {
   "cell_type": "code",
   "execution_count": 111,
   "metadata": {
    "scrolled": true
   },
   "outputs": [
    {
     "name": "stdout",
     "output_type": "stream",
     "text": [
      "Date         203.0\n",
      "Country       93.5\n",
      "Confirmed    730.0\n",
      "Recovered    123.0\n",
      "Deaths        13.0\n",
      "dtype: float64\n"
     ]
    }
   ],
   "source": [
    "Q1=df.quantile(0.25)\n",
    "Q3=df.quantile(0.75)\n",
    "IQR=Q3-Q1\n",
    "print(IQR)"
   ]
  },
  {
   "cell_type": "code",
   "execution_count": 112,
   "metadata": {
    "scrolled": true
   },
   "outputs": [],
   "source": [
    "new_df2=df[~((df<Q1-(1.5*IQR))|(df>(Q3+(1.5*IQR)))).any(axis=1)]"
   ]
  },
  {
   "cell_type": "code",
   "execution_count": 113,
   "metadata": {
    "scrolled": true
   },
   "outputs": [
    {
     "data": {
      "text/html": [
       "<div>\n",
       "<style scoped>\n",
       "    .dataframe tbody tr th:only-of-type {\n",
       "        vertical-align: middle;\n",
       "    }\n",
       "\n",
       "    .dataframe tbody tr th {\n",
       "        vertical-align: top;\n",
       "    }\n",
       "\n",
       "    .dataframe thead th {\n",
       "        text-align: right;\n",
       "    }\n",
       "</style>\n",
       "<table border=\"1\" class=\"dataframe\">\n",
       "  <thead>\n",
       "    <tr style=\"text-align: right;\">\n",
       "      <th></th>\n",
       "      <th>Date</th>\n",
       "      <th>Country</th>\n",
       "      <th>Confirmed</th>\n",
       "      <th>Recovered</th>\n",
       "      <th>Deaths</th>\n",
       "    </tr>\n",
       "  </thead>\n",
       "  <tbody>\n",
       "    <tr>\n",
       "      <th>0</th>\n",
       "      <td>20200122</td>\n",
       "      <td>0</td>\n",
       "      <td>0</td>\n",
       "      <td>0</td>\n",
       "      <td>0</td>\n",
       "    </tr>\n",
       "    <tr>\n",
       "      <th>1</th>\n",
       "      <td>20200122</td>\n",
       "      <td>1</td>\n",
       "      <td>0</td>\n",
       "      <td>0</td>\n",
       "      <td>0</td>\n",
       "    </tr>\n",
       "    <tr>\n",
       "      <th>2</th>\n",
       "      <td>20200122</td>\n",
       "      <td>2</td>\n",
       "      <td>0</td>\n",
       "      <td>0</td>\n",
       "      <td>0</td>\n",
       "    </tr>\n",
       "    <tr>\n",
       "      <th>3</th>\n",
       "      <td>20200122</td>\n",
       "      <td>3</td>\n",
       "      <td>0</td>\n",
       "      <td>0</td>\n",
       "      <td>0</td>\n",
       "    </tr>\n",
       "    <tr>\n",
       "      <th>4</th>\n",
       "      <td>20200122</td>\n",
       "      <td>4</td>\n",
       "      <td>0</td>\n",
       "      <td>0</td>\n",
       "      <td>0</td>\n",
       "    </tr>\n",
       "    <tr>\n",
       "      <th>...</th>\n",
       "      <td>...</td>\n",
       "      <td>...</td>\n",
       "      <td>...</td>\n",
       "      <td>...</td>\n",
       "      <td>...</td>\n",
       "    </tr>\n",
       "    <tr>\n",
       "      <th>23675</th>\n",
       "      <td>20200526</td>\n",
       "      <td>175</td>\n",
       "      <td>253</td>\n",
       "      <td>69</td>\n",
       "      <td>0</td>\n",
       "    </tr>\n",
       "    <tr>\n",
       "      <th>23681</th>\n",
       "      <td>20200526</td>\n",
       "      <td>181</td>\n",
       "      <td>1211</td>\n",
       "      <td>302</td>\n",
       "      <td>11</td>\n",
       "    </tr>\n",
       "    <tr>\n",
       "      <th>23682</th>\n",
       "      <td>20200526</td>\n",
       "      <td>182</td>\n",
       "      <td>327</td>\n",
       "      <td>272</td>\n",
       "      <td>0</td>\n",
       "    </tr>\n",
       "    <tr>\n",
       "      <th>23684</th>\n",
       "      <td>20200526</td>\n",
       "      <td>184</td>\n",
       "      <td>9</td>\n",
       "      <td>6</td>\n",
       "      <td>1</td>\n",
       "    </tr>\n",
       "    <tr>\n",
       "      <th>23687</th>\n",
       "      <td>20200526</td>\n",
       "      <td>187</td>\n",
       "      <td>56</td>\n",
       "      <td>25</td>\n",
       "      <td>4</td>\n",
       "    </tr>\n",
       "  </tbody>\n",
       "</table>\n",
       "<p>17913 rows × 5 columns</p>\n",
       "</div>"
      ],
      "text/plain": [
       "           Date  Country  Confirmed  Recovered  Deaths\n",
       "0      20200122        0          0          0       0\n",
       "1      20200122        1          0          0       0\n",
       "2      20200122        2          0          0       0\n",
       "3      20200122        3          0          0       0\n",
       "4      20200122        4          0          0       0\n",
       "...         ...      ...        ...        ...     ...\n",
       "23675  20200526      175        253         69       0\n",
       "23681  20200526      181       1211        302      11\n",
       "23682  20200526      182        327        272       0\n",
       "23684  20200526      184          9          6       1\n",
       "23687  20200526      187         56         25       4\n",
       "\n",
       "[17913 rows x 5 columns]"
      ]
     },
     "execution_count": 113,
     "metadata": {},
     "output_type": "execute_result"
    }
   ],
   "source": [
    "new_df2"
   ]
  },
  {
   "cell_type": "code",
   "execution_count": 114,
   "metadata": {
    "scrolled": true
   },
   "outputs": [
    {
     "name": "stdout",
     "output_type": "stream",
     "text": [
      "24.379432624113477\n"
     ]
    }
   ],
   "source": [
    "percentage_loss=((23688-17913 )/23688)*100\n",
    "print(percentage_loss)"
   ]
  },
  {
   "cell_type": "code",
   "execution_count": 115,
   "metadata": {
    "scrolled": true
   },
   "outputs": [
    {
     "data": {
      "text/plain": [
       "array([[-1.79845234, -1.72286214, -0.13641539, -0.17049719],\n",
       "       [-1.79845234, -1.70443581, -0.13641539, -0.17049719],\n",
       "       [-1.79845234, -1.68600948, -0.13641539, -0.17049719],\n",
       "       ...,\n",
       "       [ 1.50177902,  1.68600948, -0.13215314, -0.16983681],\n",
       "       [ 1.50177902,  1.70443581, -0.12066732, -0.1483084 ],\n",
       "       [ 1.50177902,  1.72286214, -0.13545681, -0.16884624]])"
      ]
     },
     "execution_count": 115,
     "metadata": {},
     "output_type": "execute_result"
    }
   ],
   "source": [
    "sc=StandardScaler()\n",
    "x=sc.fit_transform(x)\n",
    "x"
   ]
  },
  {
   "cell_type": "code",
   "execution_count": 116,
   "metadata": {
    "scrolled": true
   },
   "outputs": [],
   "source": [
    "y=le.fit_transform(y)"
   ]
  },
  {
   "cell_type": "code",
   "execution_count": 117,
   "metadata": {
    "scrolled": true
   },
   "outputs": [],
   "source": [
    "from sklearn.preprocessing import power_transform\n",
    "x=power_transform(x,method='yeo-johnson')"
   ]
  },
  {
   "cell_type": "code",
   "execution_count": 118,
   "metadata": {
    "scrolled": true
   },
   "outputs": [],
   "source": [
    "from sklearn.model_selection import train_test_split\n",
    "x = new_df[['Date','Country','Confirmed','Recovered']]\n",
    "y = new_df['Deaths']"
   ]
  },
  {
   "cell_type": "code",
   "execution_count": 119,
   "metadata": {
    "scrolled": true
   },
   "outputs": [],
   "source": [
    "x_train, x_test, y_train, y_test = train_test_split(x, y, test_size = 0.2, random_state = 0)"
   ]
  },
  {
   "cell_type": "code",
   "execution_count": null,
   "metadata": {
    "scrolled": true
   },
   "outputs": [],
   "source": []
  },
  {
   "cell_type": "code",
   "execution_count": 120,
   "metadata": {
    "scrolled": true
   },
   "outputs": [],
   "source": [
    "\n",
    "from sklearn.model_selection import train_test_split\n",
    "from sklearn.linear_model import LogisticRegression\n",
    "lr=LogisticRegression()\n",
    "from sklearn.metrics import r2_score\n",
    "from sklearn import linear_model"
   ]
  },
  {
   "cell_type": "code",
   "execution_count": 121,
   "metadata": {
    "scrolled": true
   },
   "outputs": [
    {
     "name": "stdout",
     "output_type": "stream",
     "text": [
      "max r2 score corresponding to:- 80 is 0.6371827547727036\n"
     ]
    }
   ],
   "source": [
    "max_r_score=0\n",
    "for r_state in range (10,100):\n",
    "    x_train,x_test,y_train,y_test=train_test_split(x,y,random_state=r_state,test_size=0.20) \n",
    "    regr=linear_model.LinearRegression()\n",
    "    regr.fit(x_train,y_train)\n",
    "    y_pred=regr.predict(x_test)\n",
    "    r2_scr=r2_score(y_test,y_pred)\n",
    "    if r2_scr>max_r_score:\n",
    "        max_r_score=r2_scr\n",
    "        final_r_state=r_state\n",
    "        \n",
    "print(\"max r2 score corresponding to:-\",final_r_state,\"is\",max_r_score)"
   ]
  },
  {
   "cell_type": "code",
   "execution_count": 122,
   "metadata": {
    "scrolled": true
   },
   "outputs": [
    {
     "data": {
      "text/plain": [
       "0.5299140300985643"
      ]
     },
     "execution_count": 122,
     "metadata": {},
     "output_type": "execute_result"
    }
   ],
   "source": [
    "from sklearn.model_selection import cross_val_score\n",
    "cross_val_score(linear_model.LinearRegression(),x,y,cv=2,scoring=\"r2\").mean()"
   ]
  },
  {
   "cell_type": "code",
   "execution_count": 123,
   "metadata": {
    "scrolled": true
   },
   "outputs": [],
   "source": [
    "x_train,x_test,y_train,y_test=train_test_split(x,y,random_state=80,test_size=0.20) \n",
    "lreg=linear_model.LinearRegression()\n",
    "lreg.fit(x_train,y_train)\n",
    "y_pred=lreg.predict(x_test)\n"
   ]
  },
  {
   "cell_type": "code",
   "execution_count": 124,
   "metadata": {
    "scrolled": true
   },
   "outputs": [
    {
     "name": "stdout",
     "output_type": "stream",
     "text": [
      "r2 score is  <function r2_score at 0x00000288348AB9D0> (           Date  Country  Confirmed  Recovered\n",
      "17931  20200426       71        996        208\n",
      "10049  20200315       85      24747       2335\n",
      "22642  20200521       82       3877       2483\n",
      "16002  20200416       22         15          0\n",
      "14278  20200406      178      52279        287\n",
      "...         ...      ...        ...        ...\n",
      "14402  20200407      114       1056         40\n",
      "8725   20200308       77          7          0\n",
      "5405   20200219      141          0          0\n",
      "3148   20200207      140          2          0\n",
      "14831  20200409      167         25          5\n",
      "\n",
      "[4636 rows x 4 columns], array([  43.05358157, 1262.88382965,  172.28356893, ...,  -19.50137369,\n",
      "        -18.45135144,  -36.52499827]))\n",
      "RMSE is : 411.19844859540467\n"
     ]
    }
   ],
   "source": [
    "from sklearn.metrics import r2_score\n",
    "from sklearn.metrics import mean_squared_error\n",
    "print (\"r2 score is \",r2_score,(x_test,y_pred))\n",
    "print(\"RMSE is :\",np.sqrt(mean_squared_error(y_test,y_pred)))"
   ]
  },
  {
   "cell_type": "code",
   "execution_count": 125,
   "metadata": {
    "scrolled": true
   },
   "outputs": [],
   "source": [
    "x_train,x_test,y_train,y_test=train_test_split(x,y,random_state=80,test_size=0.20) \n"
   ]
  },
  {
   "cell_type": "code",
   "execution_count": 126,
   "metadata": {
    "scrolled": true
   },
   "outputs": [],
   "source": [
    "from sklearn.model_selection import GridSearchCV\n",
    "from sklearn.model_selection import cross_val_score\n",
    "import warnings\n",
    "warnings.filterwarnings('ignore')"
   ]
  },
  {
   "cell_type": "code",
   "execution_count": 127,
   "metadata": {
    "scrolled": true
   },
   "outputs": [
    {
     "name": "stdout",
     "output_type": "stream",
     "text": [
      "{'alpha': 10, 'random_state': 20}\n"
     ]
    }
   ],
   "source": [
    "from sklearn.linear_model import Lasso\n",
    "\n",
    "parameters={'alpha':[.0001,.001,.01,.1,1,10],'random_state':list(range(20,100))}\n",
    "ls=Lasso()\n",
    "clf= GridSearchCV(ls,parameters)\n",
    "clf.fit(x_train,y_train)\n",
    "\n",
    "print(clf.best_params_)"
   ]
  },
  {
   "cell_type": "code",
   "execution_count": 128,
   "metadata": {
    "scrolled": true
   },
   "outputs": [
    {
     "name": "stdout",
     "output_type": "stream",
     "text": [
      "At cv:- 2\n",
      "Cross validation score is :- 53.07118328330523\n",
      "R2_score is:- 63.718384072108044\n",
      "\n",
      "\n",
      "At cv:- 3\n",
      "Cross validation score is :- 46.46485170402428\n",
      "R2_score is:- 63.718384072108044\n",
      "\n",
      "\n",
      "At cv:- 4\n",
      "Cross validation score is :- 37.96524053019038\n",
      "R2_score is:- 63.718384072108044\n",
      "\n",
      "\n",
      "At cv:- 5\n",
      "Cross validation score is :- 27.13985930210243\n",
      "R2_score is:- 63.718384072108044\n",
      "\n",
      "\n",
      "At cv:- 6\n",
      "Cross validation score is :- 26.007890850991355\n",
      "R2_score is:- 63.718384072108044\n",
      "\n",
      "\n",
      "At cv:- 7\n",
      "Cross validation score is :- 18.343741398008287\n",
      "R2_score is:- 63.718384072108044\n",
      "\n",
      "\n",
      "At cv:- 8\n",
      "Cross validation score is :- 15.152984263514416\n",
      "R2_score is:- 63.718384072108044\n",
      "\n",
      "\n",
      "At cv:- 9\n",
      "Cross validation score is :- 11.80003441231147\n",
      "R2_score is:- 63.718384072108044\n",
      "\n",
      "\n"
     ]
    }
   ],
   "source": [
    "ls=Lasso(alpha=10,random_state=20)\n",
    "ls.fit(x_train,y_train)\n",
    "ls.score(x_train,y_train)\n",
    "pred_ls=ls.predict(x_test)\n",
    "\n",
    "lss=r2_score(y_test,pred_ls)\n",
    "for j in range (2,10):\n",
    "    lsscore=cross_val_score(ls,x,y,cv=j)\n",
    "    lsc=lsscore.mean()\n",
    "    print(\"At cv:-\",j)\n",
    "    print(\"Cross validation score is :-\",lsc*100)\n",
    "    print(\"R2_score is:-\",lss*100)\n",
    "    print(\"\\n\")"
   ]
  },
  {
   "cell_type": "code",
   "execution_count": 155,
   "metadata": {
    "scrolled": true
   },
   "outputs": [
    {
     "name": "stdout",
     "output_type": "stream",
     "text": [
      "at cv :- 2\n",
      "at cross validation score is :- 46.4648\n",
      "r2_score:- 63.7183\n"
     ]
    }
   ],
   "source": [
    "print (\"at cv :-\",2)\n",
    "print(\"at cross validation score is :-\",46.4648)\n",
    "print(\"r2_score:-\",63.7183)"
   ]
  },
  {
   "cell_type": "code",
   "execution_count": 130,
   "metadata": {
    "scrolled": true
   },
   "outputs": [],
   "source": [
    "from sklearn.metrics import mean_absolute_error\n",
    "from sklearn.metrics import mean_squared_error\n",
    "import numpy as np"
   ]
  },
  {
   "cell_type": "code",
   "execution_count": 131,
   "metadata": {
    "scrolled": true
   },
   "outputs": [
    {
     "name": "stdout",
     "output_type": "stream",
     "text": [
      "Error:-\n",
      "MeanAbsoluteError: 92.69278565351284\n",
      "MeanSquaredError: 169083.65804141865\n",
      "RootMeanSquareError: 411.1978332158605\n"
     ]
    }
   ],
   "source": [
    "print('Error:-')\n",
    "print('MeanAbsoluteError:',mean_absolute_error(y_test,pred_ls))\n",
    "print('MeanSquaredError:',mean_squared_error(y_test,pred_ls))\n",
    "print('RootMeanSquareError:',np.sqrt(mean_squared_error(y_test,pred_ls)))"
   ]
  },
  {
   "cell_type": "code",
   "execution_count": 132,
   "metadata": {
    "scrolled": true
   },
   "outputs": [
    {
     "data": {
      "image/png": "[encoded data removed]",
      "text/plain": [
       "<Figure size 576x432 with 1 Axes>"
      ]
     },
     "metadata": {},
     "output_type": "display_data"
    }
   ],
   "source": [
    "plt.figure(figsize=(8,6))\n",
    "plt.scatter(x=y_test,y=pred_ls,color='r')\n",
    "plt.plot(y_test,y_test,color='b')\n",
    "plt.xlabel(\"Actual Deaths\",fontsize=14)\n",
    "plt.ylabel(\"Predicted Deaths\",fontsize=14)\n",
    "plt.title(\"LassoRegression\",fontsize=18)\n",
    "plt.show()"
   ]
  },
  {
   "cell_type": "code",
   "execution_count": 133,
   "metadata": {
    "scrolled": true
   },
   "outputs": [],
   "source": [
    "#DecisionTreeRegressor"
   ]
  },
  {
   "cell_type": "code",
   "execution_count": 134,
   "metadata": {
    "scrolled": true
   },
   "outputs": [
    {
     "name": "stdout",
     "output_type": "stream",
     "text": [
      "{'criterion': 'mse', 'splitter': 'best'}\n"
     ]
    }
   ],
   "source": [
    "from sklearn.tree import DecisionTreeRegressor\n",
    "parameters={'criterion':['mse','friedman_mse','mae'],'splitter':['best','random']}\n",
    "dt=DecisionTreeRegressor()\n",
    "clf=GridSearchCV(dt,parameters)\n",
    "clf.fit(x_train,y_train)\n",
    "\n",
    "print(clf.best_params_)\n"
   ]
  },
  {
   "cell_type": "code",
   "execution_count": 135,
   "metadata": {
    "scrolled": true
   },
   "outputs": [
    {
     "name": "stdout",
     "output_type": "stream",
     "text": [
      "R2 Score: 90.82002491361727\n",
      "cross val score: -189.7000839146783\n"
     ]
    }
   ],
   "source": [
    "dt=DecisionTreeRegressor(criterion='mse',splitter='best')\n",
    "dt.fit(x_train,y_train)\n",
    "dt.score(x_train,y_train)\n",
    "pred_decision=dt.predict(x_test)\n",
    "\n",
    "dts=r2_score(y_test,pred_decision)\n",
    "print('R2 Score:',dts*100)\n",
    "\n",
    "dtscore=cross_val_score(dt,x,y,cv=2)\n",
    "dtc=dtscore.mean()\n",
    "print('cross val score:',dtc*100)"
   ]
  },
  {
   "cell_type": "code",
   "execution_count": 136,
   "metadata": {
    "scrolled": true
   },
   "outputs": [
    {
     "name": "stdout",
     "output_type": "stream",
     "text": [
      "Error:-\n",
      "MeanAbsoluteError: 16.249424791486913\n",
      "MeanSquaredError: 42781.55006710766\n",
      "RootMeanSquareError: 206.83701329091866\n"
     ]
    }
   ],
   "source": [
    "print('Error:-')\n",
    "print('MeanAbsoluteError:',mean_absolute_error(y_test,pred_decision))\n",
    "print('MeanSquaredError:',mean_squared_error(y_test,pred_decision))\n",
    "print('RootMeanSquareError:',np.sqrt(mean_squared_error(y_test,pred_decision)))"
   ]
  },
  {
   "cell_type": "code",
   "execution_count": 137,
   "metadata": {
    "scrolled": true
   },
   "outputs": [
    {
     "data": {
      "image/png": "[encoded data removed]",
      "text/plain": [
       "<Figure size 576x432 with 1 Axes>"
      ]
     },
     "metadata": {},
     "output_type": "display_data"
    }
   ],
   "source": [
    "plt.figure(figsize=(8,6))\n",
    "plt.scatter(x=y_test,y=pred_decision,color='r')\n",
    "plt.plot(y_test,y_test,color='b')\n",
    "plt.xlabel(\"Actual Deaths\",fontsize=14)\n",
    "plt.ylabel(\"Predicted Deaths\",fontsize=14)\n",
    "plt.title(\"DecisionTreeRegressor\",fontsize=18)\n",
    "plt.show()"
   ]
  },
  {
   "cell_type": "code",
   "execution_count": 139,
   "metadata": {
    "scrolled": true
   },
   "outputs": [],
   "source": [
    "#AdaboostRegressor"
   ]
  },
  {
   "cell_type": "code",
   "execution_count": 140,
   "metadata": {
    "scrolled": true
   },
   "outputs": [
    {
     "name": "stdout",
     "output_type": "stream",
     "text": [
      "{'base_estimator': None, 'learning_rate': 1.0, 'loss': 'linear', 'n_estimators': 50, 'random_state': 50}\n"
     ]
    }
   ],
   "source": [
    "from sklearn.ensemble import AdaBoostRegressor\n",
    "ADB=AdaBoostRegressor()\n",
    "parameters={'base_estimator':[None], 'learning_rate':[1.0,2.0], 'loss':['linear','square','exponential'],'n_estimators':[50,100],'random_state':[50]}\n",
    "ADB=AdaBoostRegressor()\n",
    "clf=GridSearchCV(ADB,parameters)\n",
    "clf.fit(x_train,y_train)\n",
    "                         \n",
    "print(clf.best_params_)"
   ]
  },
  {
   "cell_type": "code",
   "execution_count": 146,
   "metadata": {},
   "outputs": [
    {
     "name": "stdout",
     "output_type": "stream",
     "text": [
      "R2 Score: 81.94546382147928\n",
      "cross val score: 21.836111332383062\n"
     ]
    }
   ],
   "source": [
    "ADB=AdaBoostRegressor(base_estimator=None,learning_rate=1.0,loss='linear',n_estimators=50,random_state=50)\n",
    "ADB.fit(x_train,y_train)\n",
    "ADB.score(x_train,y_train)\n",
    "pred_ADB=ADB.predict(x_test)\n",
    "\n",
    "ADBS=r2_score(y_test,pred_ADB)\n",
    "print('R2 Score:',ADBS*100)\n",
    "\n",
    "ADBSscore=cross_val_score(ADB,x,y,cv=2)\n",
    "ADBC=ADBSscore.mean()\n",
    "print('cross val score:',ADBC*100)"
   ]
  },
  {
   "cell_type": "code",
   "execution_count": 147,
   "metadata": {},
   "outputs": [
    {
     "name": "stdout",
     "output_type": "stream",
     "text": [
      "Error:-\n",
      "MeanAbsoluteError: 115.27039884896438\n",
      "MeanSquaredError: 84139.77556491898\n",
      "RootMeanSquareError: 290.0685704534688\n"
     ]
    }
   ],
   "source": [
    "print('Error:-')\n",
    "print('MeanAbsoluteError:',mean_absolute_error(y_test,pred_ADB))\n",
    "print('MeanSquaredError:',mean_squared_error(y_test,pred_ADB))\n",
    "print('RootMeanSquareError:',np.sqrt(mean_squared_error(y_test,pred_ADB)))"
   ]
  },
  {
   "cell_type": "code",
   "execution_count": 149,
   "metadata": {
    "scrolled": true
   },
   "outputs": [
    {
     "data": {
      "image/png": "[encoded data removed]",
      "text/plain": [
       "<Figure size 576x432 with 1 Axes>"
      ]
     },
     "metadata": {},
     "output_type": "display_data"
    }
   ],
   "source": [
    "plt.figure(figsize=(8,6))\n",
    "\n",
    "plt.scatter(x=y_test,y=pred_ADB,color='r')\n",
    "plt.plot(y_test,y_test,color='b')\n",
    "plt.xlabel(\"Actual Deaths\",fontsize=14)\n",
    "plt.ylabel(\"Predicted Deaths\",fontsize=14)\n",
    "plt.title(\"AdaBoostRegressor\",fontsize=18)\n",
    "plt.show()"
   ]
  },
  {
   "cell_type": "code",
   "execution_count": 150,
   "metadata": {
    "scrolled": true
   },
   "outputs": [],
   "source": [
    "#SGD Regressor"
   ]
  },
  {
   "cell_type": "code",
   "execution_count": 151,
   "metadata": {
    "scrolled": true
   },
   "outputs": [
    {
     "name": "stdout",
     "output_type": "stream",
     "text": [
      "{'alpha': 0.01, 'epsilon': 0.01, 'max_iter': 1000, 'penalty': 'elasticnet', 'tol': 0.001}\n"
     ]
    }
   ],
   "source": [
    "from sklearn.linear_model import SGDRegressor\n",
    "parameters={'alpha':[0.0001,0.001,0.01,0.1],'epsilon':[0.01,0.1],'penalty':['elasticnet'],'max_iter':[1000],'tol':[1e-3]}\n",
    "SGD=SGDRegressor()\n",
    "clf=GridSearchCV(SGD,parameters)\n",
    "clf.fit(x_train,y_train)\n",
    "                         \n",
    "print(clf.best_params_)"
   ]
  },
  {
   "cell_type": "code",
   "execution_count": 152,
   "metadata": {
    "scrolled": true
   },
   "outputs": [
    {
     "name": "stdout",
     "output_type": "stream",
     "text": [
      "Accuracy=63.71827547727036,Cross_Val_score=-1.2892525411140458e+37and difference=1.2892525411140458e+37\n"
     ]
    }
   ],
   "source": [
    "SGD=SGDRegressor(alpha=0.01,epsilon=0.01,max_iter=1000,penalty='elasticnet',tol=0.001)\n",
    "SGD.fit(x_train,y_train)\n",
    "pred_SGD=SGD.predict(x_test)\n",
    "r2score=r2_score(y_test,y_pred)\n",
    "cvscore=cross_val_score(SGDRegressor(),x_train,y_train,cv=2).mean()\n",
    "\n",
    "print(f\"Accuracy={r2score*100},Cross_Val_score={cvscore*100}and difference={(r2score*100)-(cvscore*100)}\")"
   ]
  },
  {
   "cell_type": "code",
   "execution_count": 153,
   "metadata": {
    "scrolled": true
   },
   "outputs": [
    {
     "name": "stdout",
     "output_type": "stream",
     "text": [
      "Error:-\n",
      "MeanAbsoluteError: 3.124364239466251e+22\n",
      "MeanSquaredError: 9.761652328022696e+44\n",
      "RootMeanSquareError: 3.1243643078269053e+22\n"
     ]
    }
   ],
   "source": [
    "print('Error:-')\n",
    "print('MeanAbsoluteError:',mean_absolute_error(y_test,pred_SGD))\n",
    "print('MeanSquaredError:',mean_squared_error(y_test,pred_SGD))\n",
    "print('RootMeanSquareError:',np.sqrt(mean_squared_error(y_test,pred_SGD)))"
   ]
  },
  {
   "cell_type": "code",
   "execution_count": 154,
   "metadata": {
    "scrolled": false
   },
   "outputs": [
    {
     "data": {
      "image/png": "[encoded data removed]",
      "text/plain": [
       "<Figure size 576x432 with 1 Axes>"
      ]
     },
     "metadata": {},
     "output_type": "display_data"
    }
   ],
   "source": [
    "plt.figure(figsize=(8,6))\n",
    "plt.scatter(x=y_test,y=pred_SGD,color='r')\n",
    "plt.plot(y_test,y_test,color='b')\n",
    "plt.xlabel(\"Actual Deaths\",fontsize=14)\n",
    "plt.ylabel(\"Predicted \",fontsize=14)\n",
    "plt.title(\"SGDRegressor\",fontsize=18)\n",
    "plt.show()"
   ]
  },
  {
   "cell_type": "code",
   "execution_count": 158,
   "metadata": {},
   "outputs": [
    {
     "name": "stdout",
     "output_type": "stream",
     "text": [
      "Final accuracy: 63.718384072108044\n"
     ]
    },
    {
     "data": {
      "text/plain": [
       "<bound method BaseSearchCV.fit of GridSearchCV(cv=2, estimator=Lasso(),\n",
       "             param_grid={'alpha': [0.0001, 0.001, 0.01, 0.1],\n",
       "                         'epsilon': [0.01, 0.1], 'max_iter': [1000],\n",
       "                         'penalty': ['elasticnet'], 'tol': [0.001]},\n",
       "             scoring='r2')>"
      ]
     },
     "execution_count": 158,
     "metadata": {},
     "output_type": "execute_result"
    }
   ],
   "source": [
    "parameters={\"alpha\":[0.0001,0.001,0.01,0.1,1,10],\"random_state\":list(range(20,100))}\n",
    "\n",
    "from sklearn.model_selection import GridSearchCV\n",
    "\n",
    "GCV=GridSearchCV(Lasso(),parameters,cv=2,scoring='r2')\n",
    "\n",
    "GCV.fit(x_train,y_train)\n",
    "GCV.best_estimator_\n",
    "GCV_pred=GCV.best_estimator_.predict(x_test)\n",
    "\n",
    "\n",
    "print(\"Final accuracy:\",r2_score(y_test,GCV_pred)*100)\n",
    "clf.fit"
   ]
  },
  {
   "cell_type": "markdown",
   "metadata": {},
   "source": [
    "With the help og gridsearchCV we could abserve the model accuracy is not increasing above 63.71%,we need to collect more data for more accuracy"
   ]
  },
  {
   "cell_type": "markdown",
   "metadata": {},
   "source": [
    "SERIALIZATION"
   ]
  },
  {
   "cell_type": "raw",
   "metadata": {},
   "source": []
  },
  {
   "cell_type": "code",
   "execution_count": 160,
   "metadata": {},
   "outputs": [],
   "source": [
    "import joblib"
   ]
  },
  {
   "cell_type": "code",
   "execution_count": 161,
   "metadata": {},
   "outputs": [
    {
     "data": {
      "text/plain": [
       "['corona_project.pkl']"
      ]
     },
     "execution_count": 161,
     "metadata": {},
     "output_type": "execute_result"
    }
   ],
   "source": [
    "joblib.dump(GCV.best_estimator_,\"corona_project.pkl\")"
   ]
  },
  {
   "cell_type": "code",
   "execution_count": null,
   "metadata": {},
   "outputs": [],
   "source": []
  }
 ],
 "metadata": {
  "kernelspec": {
   "display_name": "Python 3",
   "language": "python",
   "name": "python3"
  },
  "language_info": {
   "codemirror_mode": {
    "name": "ipython",
    "version": 3
   },
   "file_extension": ".py",
   "mimetype": "text/x-python",
   "name": "python",
   "nbconvert_exporter": "python",
   "pygments_lexer": "ipython3",
   "version": "3.8.3"
  }
 },
 "nbformat": 4,
 "nbformat_minor": 4
}
